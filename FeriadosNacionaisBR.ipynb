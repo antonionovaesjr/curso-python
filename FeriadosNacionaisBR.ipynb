{
  "nbformat": 4,
  "nbformat_minor": 0,
  "metadata": {
    "colab": {
      "name": "Untitled1.ipynb",
      "provenance": [],
      "collapsed_sections": [],
      "authorship_tag": "ABX9TyMydIyPWgo99A+vQdUhk1Pv",
      "include_colab_link": true
    },
    "kernelspec": {
      "name": "python3",
      "display_name": "Python 3"
    },
    "language_info": {
      "name": "python"
    }
  },
  "cells": [
    {
      "cell_type": "markdown",
      "metadata": {
        "id": "view-in-github",
        "colab_type": "text"
      },
      "source": [
        "<a href=\"https://colab.research.google.com/github/antonionovaesjr/curso-python/blob/master/FeriadosNacionaisBR.ipynb\" target=\"_parent\"><img src=\"https://colab.research.google.com/assets/colab-badge.svg\" alt=\"Open In Colab\"/></a>"
      ]
    },
    {
      "cell_type": "code",
      "execution_count": 111,
      "metadata": {
        "colab": {
          "base_uri": "https://localhost:8080/"
        },
        "id": "cNbOwKO9lnTB",
        "outputId": "6338daee-c8fa-4f31-db53-724c34429a97"
      },
      "outputs": [
        {
          "output_type": "stream",
          "name": "stdout",
          "text": [
            "2022-01-01\n",
            "2022-03-01\n",
            "2022-04-17\n",
            "2022-04-21\n",
            "2022-05-01\n",
            "2022-06-16\n",
            "2022-09-07\n",
            "2022-10-12\n",
            "2022-11-02\n",
            "2022-11-15\n",
            "2022-12-25\n"
          ]
        }
      ],
      "source": [
        "import requests\n",
        "import json\n",
        "from datetime import datetime\n",
        "\n",
        "hoje = datetime.today().strftime('%Y-%m-%d')\n",
        "ano = datetime.today().strftime('%Y')\n",
        "url = \"https://brasilapi.com.br/api/feriados/v1/{}\".format(ano)\n",
        "\n",
        "resp_get_feriados = requests.get(url)\n",
        "feriados = resp_get_feriados.json()\n",
        "\n",
        "for feriado in feriados:\n",
        "  print(feriado[\"date\"])\n",
        "  if feriado[\"date\"] == hoje:\n",
        "    print(hoje)"
      ]
    }
  ]
}